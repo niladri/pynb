{
 "cells": [
  {
   "cell_type": "code",
   "execution_count": 1,
   "metadata": {
    "collapsed": true
   },
   "outputs": [],
   "source": [
    "import nltk"
   ]
  },
  {
   "cell_type": "code",
   "execution_count": 2,
   "metadata": {
    "collapsed": true
   },
   "outputs": [],
   "source": [
    "alice = nltk.corpus.gutenberg.words(\"carroll-alice.txt\")"
   ]
  },
  {
   "cell_type": "code",
   "execution_count": 3,
   "metadata": {
    "collapsed": true
   },
   "outputs": [],
   "source": [
    "alice = [word.lower() for word in alice if word.isalpha()]"
   ]
  },
  {
   "cell_type": "code",
   "execution_count": 4,
   "metadata": {
    "collapsed": true
   },
   "outputs": [],
   "source": [
    "alice_fd = nltk.FreqDist(alice)"
   ]
  },
  {
   "cell_type": "code",
   "execution_count": 5,
   "metadata": {
    "collapsed": true
   },
   "outputs": [],
   "source": [
    "alice_100 = alice_fd.most_common(100)"
   ]
  },
  {
   "cell_type": "code",
   "execution_count": 6,
   "metadata": {
    "collapsed": true
   },
   "outputs": [],
   "source": [
    "common = [word[0] for word in alice_100]"
   ]
  },
  {
   "cell_type": "code",
   "execution_count": 7,
   "metadata": {
    "collapsed": false
   },
   "outputs": [
    {
     "data": {
      "text/plain": [
       "['the',\n",
       " 'and',\n",
       " 'to',\n",
       " 'a',\n",
       " 'it',\n",
       " 'she',\n",
       " 'i',\n",
       " 'of',\n",
       " 'said',\n",
       " 'you',\n",
       " 'alice',\n",
       " 'in',\n",
       " 'was',\n",
       " 'that',\n",
       " 'as',\n",
       " 'her',\n",
       " 't',\n",
       " 'at',\n",
       " 's',\n",
       " 'on',\n",
       " 'all',\n",
       " 'with',\n",
       " 'had',\n",
       " 'but',\n",
       " 'for',\n",
       " 'they',\n",
       " 'so',\n",
       " 'be',\n",
       " 'not',\n",
       " 'very',\n",
       " 'what',\n",
       " 'this',\n",
       " 'little',\n",
       " 'he',\n",
       " 'out',\n",
       " 'is',\n",
       " 'one',\n",
       " 'down',\n",
       " 'up',\n",
       " 'there',\n",
       " 'if',\n",
       " 'his',\n",
       " 'then',\n",
       " 'about',\n",
       " 'no',\n",
       " 'know',\n",
       " 'them',\n",
       " 'were',\n",
       " 'like',\n",
       " 'would',\n",
       " 'went',\n",
       " 'again',\n",
       " 'herself',\n",
       " 'do',\n",
       " 'have',\n",
       " 'when',\n",
       " 'could',\n",
       " 'or',\n",
       " 'queen',\n",
       " 'thought',\n",
       " 'off',\n",
       " 'time',\n",
       " 'how',\n",
       " 'me',\n",
       " 'into',\n",
       " 'see',\n",
       " 'king',\n",
       " 'who',\n",
       " 'can',\n",
       " 'm',\n",
       " 'did',\n",
       " 'well',\n",
       " 'your',\n",
       " 'don',\n",
       " 'now',\n",
       " 'turtle',\n",
       " 'by',\n",
       " 'began',\n",
       " 'my',\n",
       " 'its',\n",
       " 'll',\n",
       " 'an',\n",
       " 'hatter',\n",
       " 'way',\n",
       " 'mock',\n",
       " 'gryphon',\n",
       " 'quite',\n",
       " 'are',\n",
       " 'think',\n",
       " 'their',\n",
       " 'just',\n",
       " 'much',\n",
       " 'first',\n",
       " 'some',\n",
       " 'rabbit',\n",
       " 'say',\n",
       " 'here',\n",
       " 'go',\n",
       " 'head',\n",
       " 'only']"
      ]
     },
     "execution_count": 7,
     "metadata": {},
     "output_type": "execute_result"
    }
   ],
   "source": [
    "common"
   ]
  },
  {
   "cell_type": "code",
   "execution_count": 8,
   "metadata": {
    "collapsed": true
   },
   "outputs": [],
   "source": [
    "descriptive = set(common) - set(nltk.corpus.stopwords.words(\"english\"))"
   ]
  },
  {
   "cell_type": "code",
   "execution_count": 9,
   "metadata": {
    "collapsed": false
   },
   "outputs": [
    {
     "data": {
      "text/plain": [
       "{'alice',\n",
       " 'began',\n",
       " 'could',\n",
       " 'first',\n",
       " 'go',\n",
       " 'gryphon',\n",
       " 'hatter',\n",
       " 'head',\n",
       " 'king',\n",
       " 'know',\n",
       " 'like',\n",
       " 'little',\n",
       " 'mock',\n",
       " 'much',\n",
       " 'one',\n",
       " 'queen',\n",
       " 'quite',\n",
       " 'rabbit',\n",
       " 'said',\n",
       " 'say',\n",
       " 'see',\n",
       " 'think',\n",
       " 'thought',\n",
       " 'time',\n",
       " 'turtle',\n",
       " 'way',\n",
       " 'well',\n",
       " 'went',\n",
       " 'would'}"
      ]
     },
     "execution_count": 9,
     "metadata": {},
     "output_type": "execute_result"
    }
   ],
   "source": [
    "descriptive"
   ]
  },
  {
   "cell_type": "code",
   "execution_count": null,
   "metadata": {
    "collapsed": true
   },
   "outputs": [],
   "source": []
  }
 ],
 "metadata": {
  "kernelspec": {
   "display_name": "Python [default]",
   "language": "python",
   "name": "python3"
  },
  "language_info": {
   "codemirror_mode": {
    "name": "ipython",
    "version": 3
   },
   "file_extension": ".py",
   "mimetype": "text/x-python",
   "name": "python",
   "nbconvert_exporter": "python",
   "pygments_lexer": "ipython3",
   "version": "3.5.2"
  }
 },
 "nbformat": 4,
 "nbformat_minor": 1
}
