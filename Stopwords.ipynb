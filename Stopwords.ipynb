{
 "cells": [
  {
   "cell_type": "code",
   "execution_count": 1,
   "metadata": {
    "collapsed": true
   },
   "outputs": [],
   "source": [
    "import nltk"
   ]
  },
  {
   "cell_type": "code",
   "execution_count": 2,
   "metadata": {
    "collapsed": true
   },
   "outputs": [],
   "source": [
    "alice = nltk.corpus.gutenberg.words(\"carroll-alice.txt\")"
   ]
  },
  {
   "cell_type": "code",
   "execution_count": 3,
   "metadata": {
    "collapsed": true
   },
   "outputs": [],
   "source": [
    "alice = [word.lower() for word in alice if word.isalpha()]"
   ]
  },
  {
   "cell_type": "code",
   "execution_count": 4,
   "metadata": {
    "collapsed": true
   },
   "outputs": [],
   "source": [
    "alice_fd = nltk.FreqDist(alice)"
   ]
  },
  {
   "cell_type": "code",
   "execution_count": 5,
   "metadata": {
    "collapsed": true
   },
   "outputs": [],
   "source": [
    "alice_100 = alice_fd.most_common(100)"
   ]
  },
  {
   "cell_type": "code",
   "execution_count": 6,
   "metadata": {
    "collapsed": true
   },
   "outputs": [],
   "source": [
    "common = [word[0] for word in alice_100]"
   ]
  },
  {
   "cell_type": "code",
   "execution_count": 7,
   "metadata": {
    "collapsed": false
   },
   "outputs": [
    {
     "data": {
      "text/plain": [
       "['the',\n",
       " 'and',\n",
       " 'to',\n",
       " 'a',\n",
       " 'it',\n",
       " 'she',\n",
       " 'i',\n",
       " 'of',\n",
       " 'said',\n",
       " 'you',\n",
       " 'alice',\n",
       " 'in',\n",
       " 'was',\n",
       " 'that',\n",
       " 'as',\n",
       " 'her',\n",
       " 't',\n",
       " 'at',\n",
       " 's',\n",
       " 'on',\n",
       " 'all',\n",
       " 'with',\n",
       " 'had',\n",
       " 'but',\n",
       " 'for',\n",
       " 'they',\n",
       " 'so',\n",
       " 'be',\n",
       " 'not',\n",
       " 'very',\n",
       " 'what',\n",
       " 'this',\n",
       " 'little',\n",
       " 'he',\n",
       " 'out',\n",
       " 'is',\n",
       " 'one',\n",
       " 'down',\n",
       " 'up',\n",
       " 'there',\n",
       " 'if',\n",
       " 'his',\n",
       " 'then',\n",
       " 'about',\n",
       " 'no',\n",
       " 'know',\n",
       " 'them',\n",
       " 'were',\n",
       " 'like',\n",
       " 'would',\n",
       " 'went',\n",
       " 'again',\n",
       " 'herself',\n",
       " 'do',\n",
       " 'have',\n",
       " 'when',\n",
       " 'could',\n",
       " 'or',\n",
       " 'queen',\n",
       " 'thought',\n",
       " 'off',\n",
       " 'time',\n",
       " 'how',\n",
       " 'me',\n",
       " 'into',\n",
       " 'see',\n",
       " 'king',\n",
       " 'who',\n",
       " 'can',\n",
       " 'm',\n",
       " 'did',\n",
       " 'well',\n",
       " 'your',\n",
       " 'don',\n",
       " 'now',\n",
       " 'turtle',\n",
       " 'by',\n",
       " 'began',\n",
       " 'my',\n",
       " 'its',\n",
       " 'll',\n",
       " 'an',\n",
       " 'hatter',\n",
       " 'way',\n",
       " 'mock',\n",
       " 'gryphon',\n",
       " 'quite',\n",
       " 'are',\n",
       " 'think',\n",
       " 'their',\n",
       " 'just',\n",
       " 'much',\n",
       " 'first',\n",
       " 'some',\n",
       " 'rabbit',\n",
       " 'say',\n",
       " 'here',\n",
       " 'go',\n",
       " 'head',\n",
       " 'only']"
      ]
     },
     "execution_count": 7,
     "metadata": {},
     "output_type": "execute_result"
    }
   ],
   "source": [
    "common"
   ]
  },
  {
   "cell_type": "code",
   "execution_count": 8,
   "metadata": {
    "collapsed": true
   },
   "outputs": [],
   "source": [
    "descriptive = set(common) - set(nltk.corpus.stopwords.words(\"english\"))"
   ]
  },
  {
   "cell_type": "code",
   "execution_count": 9,
   "metadata": {
    "collapsed": false
   },
   "outputs": [
    {
     "data": {
      "text/plain": [
       "{'alice',\n",
       " 'began',\n",
       " 'could',\n",
       " 'first',\n",
       " 'go',\n",
       " 'gryphon',\n",
       " 'hatter',\n",
       " 'head',\n",
       " 'king',\n",
       " 'know',\n",
       " 'like',\n",
       " 'little',\n",
       " 'mock',\n",
       " 'much',\n",
       " 'one',\n",
       " 'queen',\n",
       " 'quite',\n",
       " 'rabbit',\n",
       " 'said',\n",
       " 'say',\n",
       " 'see',\n",
       " 'think',\n",
       " 'thought',\n",
       " 'time',\n",
       " 'turtle',\n",
       " 'way',\n",
       " 'well',\n",
       " 'went',\n",
       " 'would'}"
      ]
     },
     "execution_count": 9,
     "metadata": {},
     "output_type": "execute_result"
    }
   ],
   "source": [
    "descriptive"
   ]
  },
  {
   "cell_type": "code",
   "execution_count": 3,
   "metadata": {
    "collapsed": false
   },
   "outputs": [
    {
     "data": {
      "text/plain": [
       "[u'i',\n",
       " u'me',\n",
       " u'my',\n",
       " u'myself',\n",
       " u'we',\n",
       " u'our',\n",
       " u'ours',\n",
       " u'ourselves',\n",
       " u'you',\n",
       " u'your',\n",
       " u'yours',\n",
       " u'yourself',\n",
       " u'yourselves',\n",
       " u'he',\n",
       " u'him',\n",
       " u'his',\n",
       " u'himself',\n",
       " u'she',\n",
       " u'her',\n",
       " u'hers',\n",
       " u'herself',\n",
       " u'it',\n",
       " u'its',\n",
       " u'itself',\n",
       " u'they',\n",
       " u'them',\n",
       " u'their',\n",
       " u'theirs',\n",
       " u'themselves',\n",
       " u'what',\n",
       " u'which',\n",
       " u'who',\n",
       " u'whom',\n",
       " u'this',\n",
       " u'that',\n",
       " u'these',\n",
       " u'those',\n",
       " u'am',\n",
       " u'is',\n",
       " u'are',\n",
       " u'was',\n",
       " u'were',\n",
       " u'be',\n",
       " u'been',\n",
       " u'being',\n",
       " u'have',\n",
       " u'has',\n",
       " u'had',\n",
       " u'having',\n",
       " u'do',\n",
       " u'does',\n",
       " u'did',\n",
       " u'doing',\n",
       " u'a',\n",
       " u'an',\n",
       " u'the',\n",
       " u'and',\n",
       " u'but',\n",
       " u'if',\n",
       " u'or',\n",
       " u'because',\n",
       " u'as',\n",
       " u'until',\n",
       " u'while',\n",
       " u'of',\n",
       " u'at',\n",
       " u'by',\n",
       " u'for',\n",
       " u'with',\n",
       " u'about',\n",
       " u'against',\n",
       " u'between',\n",
       " u'into',\n",
       " u'through',\n",
       " u'during',\n",
       " u'before',\n",
       " u'after',\n",
       " u'above',\n",
       " u'below',\n",
       " u'to',\n",
       " u'from',\n",
       " u'up',\n",
       " u'down',\n",
       " u'in',\n",
       " u'out',\n",
       " u'on',\n",
       " u'off',\n",
       " u'over',\n",
       " u'under',\n",
       " u'again',\n",
       " u'further',\n",
       " u'then',\n",
       " u'once',\n",
       " u'here',\n",
       " u'there',\n",
       " u'when',\n",
       " u'where',\n",
       " u'why',\n",
       " u'how',\n",
       " u'all',\n",
       " u'any',\n",
       " u'both',\n",
       " u'each',\n",
       " u'few',\n",
       " u'more',\n",
       " u'most',\n",
       " u'other',\n",
       " u'some',\n",
       " u'such',\n",
       " u'no',\n",
       " u'nor',\n",
       " u'not',\n",
       " u'only',\n",
       " u'own',\n",
       " u'same',\n",
       " u'so',\n",
       " u'than',\n",
       " u'too',\n",
       " u'very',\n",
       " u's',\n",
       " u't',\n",
       " u'can',\n",
       " u'will',\n",
       " u'just',\n",
       " u'don',\n",
       " u'should',\n",
       " u'now',\n",
       " u'd',\n",
       " u'll',\n",
       " u'm',\n",
       " u'o',\n",
       " u're',\n",
       " u've',\n",
       " u'y',\n",
       " u'ain',\n",
       " u'aren',\n",
       " u'couldn',\n",
       " u'didn',\n",
       " u'doesn',\n",
       " u'hadn',\n",
       " u'hasn',\n",
       " u'haven',\n",
       " u'isn',\n",
       " u'ma',\n",
       " u'mightn',\n",
       " u'mustn',\n",
       " u'needn',\n",
       " u'shan',\n",
       " u'shouldn',\n",
       " u'wasn',\n",
       " u'weren',\n",
       " u'won',\n",
       " u'wouldn']"
      ]
     },
     "execution_count": 3,
     "metadata": {},
     "output_type": "execute_result"
    }
   ],
   "source": [
    "nltk.corpus.stopwords.words(\"english\")"
   ]
  },
  {
   "cell_type": "code",
   "execution_count": 2,
   "metadata": {
    "collapsed": true
   },
   "outputs": [],
   "source": [
    "import nltk"
   ]
  },
  {
   "cell_type": "code",
   "execution_count": null,
   "metadata": {
    "collapsed": true
   },
   "outputs": [],
   "source": []
  }
 ],
 "metadata": {
  "anaconda-cloud": {},
  "kernelspec": {
   "display_name": "Python [default]",
   "language": "python",
   "name": "python2"
  },
  "language_info": {
   "codemirror_mode": {
    "name": "ipython",
    "version": 2
   },
   "file_extension": ".py",
   "mimetype": "text/x-python",
   "name": "python",
   "nbconvert_exporter": "python",
   "pygments_lexer": "ipython2",
   "version": "2.7.12"
  }
 },
 "nbformat": 4,
 "nbformat_minor": 1
}
