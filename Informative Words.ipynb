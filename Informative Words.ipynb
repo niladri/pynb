{
 "cells": [
  {
   "cell_type": "code",
   "execution_count": 1,
   "metadata": {
    "collapsed": true
   },
   "outputs": [],
   "source": [
    "import nltk"
   ]
  },
  {
   "cell_type": "code",
   "execution_count": 2,
   "metadata": {
    "collapsed": true
   },
   "outputs": [],
   "source": [
    "alice = nltk.corpus.gutenberg.words(\"carroll-alice.txt\")"
   ]
  },
  {
   "cell_type": "code",
   "execution_count": 3,
   "metadata": {
    "collapsed": true
   },
   "outputs": [],
   "source": [
    "alice_fd = nltk.FreqDist(alice)"
   ]
  },
  {
   "cell_type": "code",
   "execution_count": 4,
   "metadata": {
    "collapsed": true
   },
   "outputs": [],
   "source": [
    "alice_fd_100 = alice_fd.most_common(100)"
   ]
  },
  {
   "cell_type": "code",
   "execution_count": 5,
   "metadata": {
    "collapsed": true
   },
   "outputs": [],
   "source": [
    "moby = nltk.corpus.gutenberg.words(\"melville-moby_dick.txt\")"
   ]
  },
  {
   "cell_type": "code",
   "execution_count": 6,
   "metadata": {
    "collapsed": true
   },
   "outputs": [],
   "source": [
    "moby_fd = nltk.FreqDist(moby)"
   ]
  },
  {
   "cell_type": "code",
   "execution_count": 7,
   "metadata": {
    "collapsed": true
   },
   "outputs": [],
   "source": [
    "moby_fd_100 = moby_fd.most_common(100)"
   ]
  },
  {
   "cell_type": "code",
   "execution_count": 8,
   "metadata": {
    "collapsed": true
   },
   "outputs": [],
   "source": [
    "alice_100 = [word[0] for word in alice_fd_100]\n",
    "moby_100 = [word[0] for word in moby_fd_100]"
   ]
  },
  {
   "cell_type": "code",
   "execution_count": 9,
   "metadata": {
    "collapsed": false
   },
   "outputs": [
    {
     "data": {
      "text/plain": [
       "{\"!'\",\n",
       " '*',\n",
       " \",'\",\n",
       " \"--'\",\n",
       " \".'\",\n",
       " ':',\n",
       " \"?'\",\n",
       " 'Alice',\n",
       " 'Gryphon',\n",
       " 'Hatter',\n",
       " 'King',\n",
       " 'Mock',\n",
       " 'Queen',\n",
       " 'Turtle',\n",
       " 'again',\n",
       " 'began',\n",
       " 'can',\n",
       " 'could',\n",
       " 'did',\n",
       " 'do',\n",
       " 'herself',\n",
       " 'know',\n",
       " 'little',\n",
       " 'll',\n",
       " 'm',\n",
       " 'off',\n",
       " 'quite',\n",
       " 'said',\n",
       " 'say',\n",
       " 'see',\n",
       " 'she',\n",
       " 't',\n",
       " 'thought',\n",
       " 'way',\n",
       " 'went',\n",
       " 'your'}"
      ]
     },
     "execution_count": 9,
     "metadata": {},
     "output_type": "execute_result"
    }
   ],
   "source": [
    "set(alice_100) - set(moby_100)"
   ]
  },
  {
   "cell_type": "code",
   "execution_count": 10,
   "metadata": {
    "collapsed": false
   },
   "outputs": [
    {
     "data": {
      "text/plain": [
       "{'!\"',\n",
       " '\"',\n",
       " '.\"',\n",
       " '?',\n",
       " 'Ahab',\n",
       " 'But',\n",
       " 'any',\n",
       " 'are',\n",
       " 'been',\n",
       " 'boat',\n",
       " 'from',\n",
       " 'head',\n",
       " 'him',\n",
       " 'long',\n",
       " 'man',\n",
       " 'more',\n",
       " 'now',\n",
       " 'old',\n",
       " 'only',\n",
       " 'other',\n",
       " 'over',\n",
       " 'sea',\n",
       " 'ship',\n",
       " 'some',\n",
       " 'such',\n",
       " 'than',\n",
       " 'their',\n",
       " 'these',\n",
       " 'though',\n",
       " 'upon',\n",
       " 'we',\n",
       " 'whale',\n",
       " 'which',\n",
       " 'who',\n",
       " 'will',\n",
       " 'ye'}"
      ]
     },
     "execution_count": 10,
     "metadata": {},
     "output_type": "execute_result"
    }
   ],
   "source": [
    "set(moby_100) - set(alice_100)"
   ]
  },
  {
   "cell_type": "code",
   "execution_count": null,
   "metadata": {
    "collapsed": true
   },
   "outputs": [],
   "source": []
  }
 ],
 "metadata": {
  "anaconda-cloud": {},
  "kernelspec": {
   "display_name": "Python [default]",
   "language": "python",
   "name": "python3"
  },
  "language_info": {
   "codemirror_mode": {
    "name": "ipython",
    "version": 3
   },
   "file_extension": ".py",
   "mimetype": "text/x-python",
   "name": "python",
   "nbconvert_exporter": "python",
   "pygments_lexer": "ipython3",
   "version": "3.5.2"
  }
 },
 "nbformat": 4,
 "nbformat_minor": 1
}
